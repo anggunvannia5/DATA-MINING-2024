{
 "cells": [
  {
   "cell_type": "markdown",
   "metadata": {},
   "source": [
    "instal "
   ]
  },
  {
   "cell_type": "code",
   "execution_count": 1,
   "metadata": {},
   "outputs": [
    {
     "name": "stdout",
     "output_type": "stream",
     "text": [
      "Requirement already satisfied: pandas in c:\\users\\asus\\appdata\\local\\programs\\python\\python312\\lib\\site-packages (2.2.2)\n",
      "Collecting openpyxl\n",
      "  Downloading openpyxl-3.1.5-py2.py3-none-any.whl.metadata (2.5 kB)\n",
      "Requirement already satisfied: scikit-learn in c:\\users\\asus\\appdata\\local\\programs\\python\\python312\\lib\\site-packages (1.5.0)\n",
      "Requirement already satisfied: numpy>=1.26.0 in c:\\users\\asus\\appdata\\local\\programs\\python\\python312\\lib\\site-packages (from pandas) (1.26.4)\n",
      "Requirement already satisfied: python-dateutil>=2.8.2 in c:\\users\\asus\\appdata\\local\\programs\\python\\python312\\lib\\site-packages (from pandas) (2.9.0.post0)\n",
      "Requirement already satisfied: pytz>=2020.1 in c:\\users\\asus\\appdata\\local\\programs\\python\\python312\\lib\\site-packages (from pandas) (2024.1)\n",
      "Requirement already satisfied: tzdata>=2022.7 in c:\\users\\asus\\appdata\\local\\programs\\python\\python312\\lib\\site-packages (from pandas) (2024.1)\n",
      "Collecting et-xmlfile (from openpyxl)\n",
      "  Downloading et_xmlfile-1.1.0-py3-none-any.whl.metadata (1.8 kB)\n",
      "Requirement already satisfied: scipy>=1.6.0 in c:\\users\\asus\\appdata\\local\\programs\\python\\python312\\lib\\site-packages (from scikit-learn) (1.14.0)\n",
      "Requirement already satisfied: joblib>=1.2.0 in c:\\users\\asus\\appdata\\local\\programs\\python\\python312\\lib\\site-packages (from scikit-learn) (1.4.2)\n",
      "Requirement already satisfied: threadpoolctl>=3.1.0 in c:\\users\\asus\\appdata\\local\\programs\\python\\python312\\lib\\site-packages (from scikit-learn) (3.5.0)\n",
      "Requirement already satisfied: six>=1.5 in c:\\users\\asus\\appdata\\local\\programs\\python\\python312\\lib\\site-packages (from python-dateutil>=2.8.2->pandas) (1.16.0)\n",
      "Downloading openpyxl-3.1.5-py2.py3-none-any.whl (250 kB)\n",
      "   ---------------------------------------- 0.0/250.9 kB ? eta -:--:--\n",
      "   ---------------------------------------- 0.0/250.9 kB ? eta -:--:--\n",
      "   ---------------------------------------- 0.0/250.9 kB ? eta -:--:--\n",
      "   ---------------------------------------- 0.0/250.9 kB ? eta -:--:--\n",
      "   ---------------------------------------- 0.0/250.9 kB ? eta -:--:--\n",
      "   ---------------------------------------- 0.0/250.9 kB ? eta -:--:--\n",
      "   ---------------------------------------- 0.0/250.9 kB ? eta -:--:--\n",
      "   ---------------------------------------- 0.0/250.9 kB ? eta -:--:--\n",
      "   ---------------------------------------- 0.0/250.9 kB ? eta -:--:--\n",
      "   ---------------------------------------- 0.0/250.9 kB ? eta -:--:--\n",
      "   ---------------------------------------- 0.0/250.9 kB ? eta -:--:--\n",
      "   ---------------------------------------- 0.0/250.9 kB ? eta -:--:--\n",
      "   ---------------------------------------- 0.0/250.9 kB ? eta -:--:--\n",
      "   ---------------------------------------- 0.0/250.9 kB ? eta -:--:--\n",
      "   ---------------------------------------- 0.0/250.9 kB ? eta -:--:--\n",
      "   - -------------------------------------- 10.2/250.9 kB ? eta -:--:--\n",
      "   - -------------------------------------- 10.2/250.9 kB ? eta -:--:--\n",
      "   - -------------------------------------- 10.2/250.9 kB ? eta -:--:--\n",
      "   - -------------------------------------- 10.2/250.9 kB ? eta -:--:--\n",
      "   - -------------------------------------- 10.2/250.9 kB ? eta -:--:--\n",
      "   --- ------------------------------------ 20.5/250.9 kB 34.5 kB/s eta 0:00:07\n",
      "   ---- ----------------------------------- 30.7/250.9 kB 69.0 kB/s eta 0:00:04\n",
      "   ---- ----------------------------------- 30.7/250.9 kB 69.0 kB/s eta 0:00:04\n",
      "   ---- ----------------------------------- 30.7/250.9 kB 69.0 kB/s eta 0:00:04\n",
      "   ---- ----------------------------------- 30.7/250.9 kB 69.0 kB/s eta 0:00:04\n",
      "   ---- ----------------------------------- 30.7/250.9 kB 69.0 kB/s eta 0:00:04\n",
      "   ---- ----------------------------------- 30.7/250.9 kB 69.0 kB/s eta 0:00:04\n",
      "   ---- ----------------------------------- 30.7/250.9 kB 69.0 kB/s eta 0:00:04\n",
      "   ---- ----------------------------------- 30.7/250.9 kB 69.0 kB/s eta 0:00:04\n",
      "   ---- ----------------------------------- 30.7/250.9 kB 69.0 kB/s eta 0:00:04\n",
      "   ------ --------------------------------- 41.0/250.9 kB 31.2 kB/s eta 0:00:07\n",
      "   ------ --------------------------------- 41.0/250.9 kB 31.2 kB/s eta 0:00:07\n",
      "   ------ --------------------------------- 41.0/250.9 kB 31.2 kB/s eta 0:00:07\n",
      "   ------ --------------------------------- 41.0/250.9 kB 31.2 kB/s eta 0:00:07\n",
      "   --------- ------------------------------ 61.4/250.9 kB 38.1 kB/s eta 0:00:05\n",
      "   --------- ------------------------------ 61.4/250.9 kB 38.1 kB/s eta 0:00:05\n",
      "   --------- ------------------------------ 61.4/250.9 kB 38.1 kB/s eta 0:00:05\n",
      "   --------- ------------------------------ 61.4/250.9 kB 38.1 kB/s eta 0:00:05\n",
      "   --------- ------------------------------ 61.4/250.9 kB 38.1 kB/s eta 0:00:05\n",
      "   --------- ------------------------------ 61.4/250.9 kB 38.1 kB/s eta 0:00:05\n",
      "   --------- ------------------------------ 61.4/250.9 kB 38.1 kB/s eta 0:00:05\n",
      "   --------- ------------------------------ 61.4/250.9 kB 38.1 kB/s eta 0:00:05\n",
      "   --------- ------------------------------ 61.4/250.9 kB 38.1 kB/s eta 0:00:05\n",
      "   --------- ------------------------------ 61.4/250.9 kB 38.1 kB/s eta 0:00:05\n",
      "   --------- ------------------------------ 61.4/250.9 kB 38.1 kB/s eta 0:00:05\n",
      "   --------- ------------------------------ 61.4/250.9 kB 38.1 kB/s eta 0:00:05\n",
      "   ----------- ---------------------------- 71.7/250.9 kB 32.5 kB/s eta 0:00:06\n",
      "   ----------- ---------------------------- 71.7/250.9 kB 32.5 kB/s eta 0:00:06\n",
      "   ----------- ---------------------------- 71.7/250.9 kB 32.5 kB/s eta 0:00:06\n",
      "   ----------- ---------------------------- 71.7/250.9 kB 32.5 kB/s eta 0:00:06\n",
      "   ----------- ---------------------------- 71.7/250.9 kB 32.5 kB/s eta 0:00:06\n",
      "   ----------- ---------------------------- 71.7/250.9 kB 32.5 kB/s eta 0:00:06\n",
      "   ----------- ---------------------------- 71.7/250.9 kB 32.5 kB/s eta 0:00:06\n",
      "   ----------- ---------------------------- 71.7/250.9 kB 32.5 kB/s eta 0:00:06\n",
      "   ----------- ---------------------------- 71.7/250.9 kB 32.5 kB/s eta 0:00:06\n",
      "   ----------- ---------------------------- 71.7/250.9 kB 32.5 kB/s eta 0:00:06\n",
      "   -------------- ------------------------- 92.2/250.9 kB 34.0 kB/s eta 0:00:05\n",
      "   -------------- ------------------------- 92.2/250.9 kB 34.0 kB/s eta 0:00:05\n",
      "   -------------- ------------------------- 92.2/250.9 kB 34.0 kB/s eta 0:00:05\n",
      "   -------------- ------------------------- 92.2/250.9 kB 34.0 kB/s eta 0:00:05\n",
      "   -------------- ------------------------- 92.2/250.9 kB 34.0 kB/s eta 0:00:05\n",
      "   -------------- ------------------------- 92.2/250.9 kB 34.0 kB/s eta 0:00:05\n",
      "   -------------- ------------------------- 92.2/250.9 kB 34.0 kB/s eta 0:00:05\n",
      "   -------------- ------------------------- 92.2/250.9 kB 34.0 kB/s eta 0:00:05\n",
      "   -------------- ------------------------- 92.2/250.9 kB 34.0 kB/s eta 0:00:05\n",
      "   -------------- ------------------------- 92.2/250.9 kB 34.0 kB/s eta 0:00:05\n",
      "   -------------- ------------------------- 92.2/250.9 kB 34.0 kB/s eta 0:00:05\n",
      "   -------------- ------------------------- 92.2/250.9 kB 34.0 kB/s eta 0:00:05\n",
      "   -------------- ------------------------- 92.2/250.9 kB 34.0 kB/s eta 0:00:05\n",
      "   -------------- ------------------------- 92.2/250.9 kB 34.0 kB/s eta 0:00:05\n",
      "   -------------- ------------------------- 92.2/250.9 kB 34.0 kB/s eta 0:00:05\n",
      "   ----------------- --------------------- 112.6/250.9 kB 33.3 kB/s eta 0:00:05\n",
      "   ----------------- --------------------- 112.6/250.9 kB 33.3 kB/s eta 0:00:05\n",
      "   ----------------- --------------------- 112.6/250.9 kB 33.3 kB/s eta 0:00:05\n",
      "   ----------------- --------------------- 112.6/250.9 kB 33.3 kB/s eta 0:00:05\n",
      "   ----------------- --------------------- 112.6/250.9 kB 33.3 kB/s eta 0:00:05\n",
      "   ------------------- ------------------- 122.9/250.9 kB 33.7 kB/s eta 0:00:04\n",
      "   ------------------- ------------------- 122.9/250.9 kB 33.7 kB/s eta 0:00:04\n",
      "   ------------------- ------------------- 122.9/250.9 kB 33.7 kB/s eta 0:00:04\n",
      "   ------------------- ------------------- 122.9/250.9 kB 33.7 kB/s eta 0:00:04\n",
      "   ------------------- ------------------- 122.9/250.9 kB 33.7 kB/s eta 0:00:04\n",
      "   ------------------- ------------------- 122.9/250.9 kB 33.7 kB/s eta 0:00:04\n",
      "   ------------------- ------------------- 122.9/250.9 kB 33.7 kB/s eta 0:00:04\n",
      "   ------------------- ------------------- 122.9/250.9 kB 33.7 kB/s eta 0:00:04\n",
      "   ------------------- ------------------- 122.9/250.9 kB 33.7 kB/s eta 0:00:04\n",
      "   ------------------- ------------------- 122.9/250.9 kB 33.7 kB/s eta 0:00:04\n",
      "   ------------------- ------------------- 122.9/250.9 kB 33.7 kB/s eta 0:00:04\n",
      "   ------------------- ------------------- 122.9/250.9 kB 33.7 kB/s eta 0:00:04\n",
      "   ------------------- ------------------- 122.9/250.9 kB 33.7 kB/s eta 0:00:04\n",
      "   ---------------------- ---------------- 143.4/250.9 kB 33.1 kB/s eta 0:00:04\n",
      "   ---------------------- ---------------- 143.4/250.9 kB 33.1 kB/s eta 0:00:04\n",
      "   ---------------------- ---------------- 143.4/250.9 kB 33.1 kB/s eta 0:00:04\n",
      "   ---------------------- ---------------- 143.4/250.9 kB 33.1 kB/s eta 0:00:04\n",
      "   ---------------------- ---------------- 143.4/250.9 kB 33.1 kB/s eta 0:00:04\n",
      "   ---------------------- ---------------- 143.4/250.9 kB 33.1 kB/s eta 0:00:04\n",
      "   ---------------------- ---------------- 143.4/250.9 kB 33.1 kB/s eta 0:00:04\n",
      "   ---------------------- ---------------- 143.4/250.9 kB 33.1 kB/s eta 0:00:04\n",
      "   ---------------------- ---------------- 143.4/250.9 kB 33.1 kB/s eta 0:00:04\n",
      "   ---------------------- ---------------- 143.4/250.9 kB 33.1 kB/s eta 0:00:04\n",
      "   ----------------------- --------------- 153.6/250.9 kB 31.0 kB/s eta 0:00:04\n",
      "   ----------------------- --------------- 153.6/250.9 kB 31.0 kB/s eta 0:00:04\n",
      "   ----------------------- --------------- 153.6/250.9 kB 31.0 kB/s eta 0:00:04\n",
      "   ----------------------- --------------- 153.6/250.9 kB 31.0 kB/s eta 0:00:04\n",
      "   ----------------------- --------------- 153.6/250.9 kB 31.0 kB/s eta 0:00:04\n",
      "   ----------------------- --------------- 153.6/250.9 kB 31.0 kB/s eta 0:00:04\n",
      "   ----------------------- --------------- 153.6/250.9 kB 31.0 kB/s eta 0:00:04\n",
      "   ----------------------- --------------- 153.6/250.9 kB 31.0 kB/s eta 0:00:04\n",
      "   ----------------------- --------------- 153.6/250.9 kB 31.0 kB/s eta 0:00:04\n",
      "   ----------------------- --------------- 153.6/250.9 kB 31.0 kB/s eta 0:00:04\n",
      "   ----------------------- --------------- 153.6/250.9 kB 31.0 kB/s eta 0:00:04\n",
      "   ----------------------- --------------- 153.6/250.9 kB 31.0 kB/s eta 0:00:04\n",
      "   ----------------------- --------------- 153.6/250.9 kB 31.0 kB/s eta 0:00:04\n",
      "   ----------------------- --------------- 153.6/250.9 kB 31.0 kB/s eta 0:00:04\n",
      "   ----------------------- --------------- 153.6/250.9 kB 31.0 kB/s eta 0:00:04\n",
      "   ----------------------- --------------- 153.6/250.9 kB 31.0 kB/s eta 0:00:04\n",
      "   ----------------------- --------------- 153.6/250.9 kB 31.0 kB/s eta 0:00:04\n",
      "   --------------------------- ----------- 174.1/250.9 kB 30.0 kB/s eta 0:00:03\n",
      "   --------------------------- ----------- 174.1/250.9 kB 30.0 kB/s eta 0:00:03\n",
      "   --------------------------- ----------- 174.1/250.9 kB 30.0 kB/s eta 0:00:03\n",
      "   --------------------------- ----------- 174.1/250.9 kB 30.0 kB/s eta 0:00:03\n",
      "   --------------------------- ----------- 174.1/250.9 kB 30.0 kB/s eta 0:00:03\n",
      "   --------------------------- ----------- 174.1/250.9 kB 30.0 kB/s eta 0:00:03\n",
      "   --------------------------- ----------- 174.1/250.9 kB 30.0 kB/s eta 0:00:03\n",
      "   --------------------------- ----------- 174.1/250.9 kB 30.0 kB/s eta 0:00:03\n",
      "   --------------------------- ----------- 174.1/250.9 kB 30.0 kB/s eta 0:00:03\n",
      "   --------------------------- ----------- 174.1/250.9 kB 30.0 kB/s eta 0:00:03\n",
      "   --------------------------- ----------- 174.1/250.9 kB 30.0 kB/s eta 0:00:03\n",
      "   --------------------------- ----------- 174.1/250.9 kB 30.0 kB/s eta 0:00:03\n",
      "   ------------------------------ -------- 194.6/250.9 kB 30.3 kB/s eta 0:00:02\n",
      "   ------------------------------ -------- 194.6/250.9 kB 30.3 kB/s eta 0:00:02\n",
      "   ------------------------------ -------- 194.6/250.9 kB 30.3 kB/s eta 0:00:02\n",
      "   ------------------------------ -------- 194.6/250.9 kB 30.3 kB/s eta 0:00:02\n",
      "   ------------------------------ -------- 194.6/250.9 kB 30.3 kB/s eta 0:00:02\n",
      "   ------------------------------ -------- 194.6/250.9 kB 30.3 kB/s eta 0:00:02\n",
      "   ------------------------------ -------- 194.6/250.9 kB 30.3 kB/s eta 0:00:02\n",
      "   ------------------------------ -------- 194.6/250.9 kB 30.3 kB/s eta 0:00:02\n",
      "   ------------------------------ -------- 194.6/250.9 kB 30.3 kB/s eta 0:00:02\n",
      "   ------------------------------ -------- 194.6/250.9 kB 30.3 kB/s eta 0:00:02\n",
      "   ------------------------------ -------- 194.6/250.9 kB 30.3 kB/s eta 0:00:02\n",
      "   ------------------------------ -------- 194.6/250.9 kB 30.3 kB/s eta 0:00:02\n",
      "   ------------------------------- ------- 204.8/250.9 kB 29.1 kB/s eta 0:00:02\n",
      "   ------------------------------- ------- 204.8/250.9 kB 29.1 kB/s eta 0:00:02\n",
      "   ------------------------------- ------- 204.8/250.9 kB 29.1 kB/s eta 0:00:02\n",
      "   ------------------------------- ------- 204.8/250.9 kB 29.1 kB/s eta 0:00:02\n",
      "   ------------------------------- ------- 204.8/250.9 kB 29.1 kB/s eta 0:00:02\n",
      "   ------------------------------- ------- 204.8/250.9 kB 29.1 kB/s eta 0:00:02\n",
      "   ------------------------------- ------- 204.8/250.9 kB 29.1 kB/s eta 0:00:02\n",
      "   ------------------------------- ------- 204.8/250.9 kB 29.1 kB/s eta 0:00:02\n",
      "   ------------------------------- ------- 204.8/250.9 kB 29.1 kB/s eta 0:00:02\n",
      "   ------------------------------- ------- 204.8/250.9 kB 29.1 kB/s eta 0:00:02\n",
      "   ------------------------------- ------- 204.8/250.9 kB 29.1 kB/s eta 0:00:02\n",
      "   ------------------------------- ------- 204.8/250.9 kB 29.1 kB/s eta 0:00:02\n",
      "   ----------------------------------- --- 225.3/250.9 kB 29.1 kB/s eta 0:00:01\n",
      "   ----------------------------------- --- 225.3/250.9 kB 29.1 kB/s eta 0:00:01\n",
      "   ----------------------------------- --- 225.3/250.9 kB 29.1 kB/s eta 0:00:01\n",
      "   ----------------------------------- --- 225.3/250.9 kB 29.1 kB/s eta 0:00:01\n",
      "   ----------------------------------- --- 225.3/250.9 kB 29.1 kB/s eta 0:00:01\n",
      "   ----------------------------------- --- 225.3/250.9 kB 29.1 kB/s eta 0:00:01\n",
      "   ----------------------------------- --- 225.3/250.9 kB 29.1 kB/s eta 0:00:01\n",
      "   ----------------------------------- --- 225.3/250.9 kB 29.1 kB/s eta 0:00:01\n",
      "   ----------------------------------- --- 225.3/250.9 kB 29.1 kB/s eta 0:00:01\n",
      "   ----------------------------------- --- 225.3/250.9 kB 29.1 kB/s eta 0:00:01\n",
      "   ----------------------------------- --- 225.3/250.9 kB 29.1 kB/s eta 0:00:01\n",
      "   ----------------------------------- --- 225.3/250.9 kB 29.1 kB/s eta 0:00:01\n",
      "   ----------------------------------- --- 225.3/250.9 kB 29.1 kB/s eta 0:00:01\n",
      "   ----------------------------------- --- 225.3/250.9 kB 29.1 kB/s eta 0:00:01\n",
      "   ----------------------------------- --- 225.3/250.9 kB 29.1 kB/s eta 0:00:01\n",
      "   ----------------------------------- --- 225.3/250.9 kB 29.1 kB/s eta 0:00:01\n",
      "   ------------------------------------ -- 235.5/250.9 kB 27.6 kB/s eta 0:00:01\n",
      "   ------------------------------------ -- 235.5/250.9 kB 27.6 kB/s eta 0:00:01\n",
      "   ------------------------------------ -- 235.5/250.9 kB 27.6 kB/s eta 0:00:01\n",
      "   ------------------------------------ -- 235.5/250.9 kB 27.6 kB/s eta 0:00:01\n",
      "   ------------------------------------ -- 235.5/250.9 kB 27.6 kB/s eta 0:00:01\n",
      "   ------------------------------------ -- 235.5/250.9 kB 27.6 kB/s eta 0:00:01\n",
      "   ------------------------------------ -- 235.5/250.9 kB 27.6 kB/s eta 0:00:01\n",
      "   --------------------------------------- 250.9/250.9 kB 28.3 kB/s eta 0:00:00\n",
      "Downloading et_xmlfile-1.1.0-py3-none-any.whl (4.7 kB)\n",
      "Installing collected packages: et-xmlfile, openpyxl\n",
      "Successfully installed et-xmlfile-1.1.0 openpyxl-3.1.5\n",
      "Note: you may need to restart the kernel to use updated packages.\n"
     ]
    },
    {
     "name": "stderr",
     "output_type": "stream",
     "text": [
      "\n",
      "[notice] A new release of pip is available: 24.1.1 -> 24.2\n",
      "[notice] To update, run: python.exe -m pip install --upgrade pip\n"
     ]
    }
   ],
   "source": [
    "pip install pandas openpyxl scikit-learn\n"
   ]
  },
  {
   "cell_type": "code",
   "execution_count": 10,
   "metadata": {},
   "outputs": [],
   "source": [
    "import pandas as pd\n",
    "from sklearn.preprocessing import OneHotEncoder, StandardScaler"
   ]
  },
  {
   "cell_type": "markdown",
   "metadata": {},
   "source": [
    "Masukkan data yang akan diproses featuring"
   ]
  },
  {
   "cell_type": "code",
   "execution_count": 11,
   "metadata": {},
   "outputs": [],
   "source": [
    "df = pd.read_excel('dataKasus-1.xlsx')"
   ]
  },
  {
   "cell_type": "code",
   "execution_count": 5,
   "metadata": {},
   "outputs": [
    {
     "name": "stdout",
     "output_type": "stream",
     "text": [
      "Data Awal: \n",
      "   NO    NAMA   USIA  PARITAS JARAK KELAHIRAN RIW HIPERTENSI RIW PE OBESITAS  \\\n",
      "0   1  NAMA 1  23 TH        3       < 2 tahun          Tidak  Tidak    Tidak   \n",
      "1   2  NAMA 2  29 TH        2       < 2 tahun          Tidak    PEB    Tidak   \n",
      "2   3  NAMA 3  20 TH        1    anak pertama          Tidak  Tidak    Tidak   \n",
      "3   4  NAMA 4  18 TH        1    anak pertama          Tidak  Tidak    Tidak   \n",
      "4   5  NAMA 5  34 TH        3      > 2 tahun           Tidak  Tidak    Tidak   \n",
      "\n",
      "  RIW DM RIW HIPERTENSI/PE DALAM KELUARGA SOSEK RENDAH PE/Non PE Unnamed: 12  \n",
      "0     Ya                            Tidak         >UMR    Non PE         NaN  \n",
      "1  Tidak                              Ada         >UMR        PE         NaN  \n",
      "2  Tidak                            Tidak         >UMR    Non PE         NaN  \n",
      "3  Tidak                            Tidak         >UMR    Non PE         NaN  \n",
      "4  Tidak                            Tidak         >UMR    Non PE         NaN  \n"
     ]
    }
   ],
   "source": [
    "print(\"Data Awal: \")\n",
    "print(df.head())"
   ]
  },
  {
   "cell_type": "code",
   "execution_count": 12,
   "metadata": {},
   "outputs": [],
   "source": [
    "df['USIA'] = df['USIA'].astype(str)\n",
    "df['PARITAS'] = df['PARITAS'].astype(str)"
   ]
  },
  {
   "cell_type": "code",
   "execution_count": 18,
   "metadata": {},
   "outputs": [],
   "source": [
    "df['USIA'] = df['USIA'].str.replace(r'\\D', '', regex=True)"
   ]
  },
  {
   "cell_type": "code",
   "execution_count": 62,
   "metadata": {},
   "outputs": [],
   "source": [
    "df['USIA'] = df['USIA'].fillna(0).astype(float).astype(int)\n",
    "df['PARITAS'] = df['PARITAS'].fillna(0).astype(float).astype(int)\n"
   ]
  },
  {
   "cell_type": "code",
   "execution_count": 59,
   "metadata": {},
   "outputs": [],
   "source": [
    "scaler = StandardScaler()\n",
    "df[['USIA_scaled', 'PARITAS_scaled']] = scaler.fit_transform(df[['USIA', 'PARITAS']])"
   ]
  },
  {
   "cell_type": "code",
   "execution_count": 22,
   "metadata": {},
   "outputs": [
    {
     "name": "stdout",
     "output_type": "stream",
     "text": [
      "    USIA PARITAS\n",
      "0     23       3\n",
      "1     29       2\n",
      "2     20       1\n",
      "3     18       1\n",
      "4     34       3\n",
      "..   ...     ...\n",
      "556   40       3\n",
      "557   28       3\n",
      "558   41       3\n",
      "559   32       2\n",
      "560   30       2\n",
      "\n",
      "[561 rows x 2 columns]\n"
     ]
    }
   ],
   "source": [
    "print(df[['USIA', 'PARITAS']])\n"
   ]
  },
  {
   "cell_type": "markdown",
   "metadata": {},
   "source": [
    "cek data jarak kelahiran"
   ]
  },
  {
   "cell_type": "code",
   "execution_count": 144,
   "metadata": {},
   "outputs": [
    {
     "name": "stdout",
     "output_type": "stream",
     "text": [
      "['<NA>']\n"
     ]
    }
   ],
   "source": [
    "print(df['JARAK KELAHIRAN'].unique())"
   ]
  },
  {
   "cell_type": "code",
   "execution_count": 145,
   "metadata": {},
   "outputs": [
    {
     "name": "stdout",
     "output_type": "stream",
     "text": [
      "0\n"
     ]
    }
   ],
   "source": [
    "print(df['JARAK KELAHIRAN'].isna().sum())"
   ]
  },
  {
   "cell_type": "markdown",
   "metadata": {},
   "source": [
    "untuk cek data type pada jarak kelahiran"
   ]
  },
  {
   "cell_type": "code",
   "execution_count": 135,
   "metadata": {},
   "outputs": [
    {
     "name": "stdout",
     "output_type": "stream",
     "text": [
      "object\n"
     ]
    }
   ],
   "source": [
    "print(df['JARAK KELAHIRAN'].dtype)\n"
   ]
  },
  {
   "cell_type": "markdown",
   "metadata": {},
   "source": [
    "konversikan jarak kelahiran"
   ]
  },
  {
   "cell_type": "code",
   "execution_count": 188,
   "metadata": {},
   "outputs": [],
   "source": [
    "df['JARAK KELAHIRAN'] = df['JARAK KELAHIRAN'].fillna('0') "
   ]
  },
  {
   "cell_type": "code",
   "execution_count": 194,
   "metadata": {},
   "outputs": [],
   "source": [
    "df['JARAK KELAHIRAN'] = df['JARAK KELAHIRAN'].str.strip()\n"
   ]
  },
  {
   "cell_type": "code",
   "execution_count": 195,
   "metadata": {},
   "outputs": [],
   "source": [
    "df['JARAK KELAHIRAN'] = df['JARAK KELAHIRAN'].astype(str)"
   ]
  },
  {
   "cell_type": "code",
   "execution_count": 197,
   "metadata": {},
   "outputs": [
    {
     "name": "stdout",
     "output_type": "stream",
     "text": [
      "object\n"
     ]
    }
   ],
   "source": [
    "print(df['JARAK KELAHIRAN'].dtype)"
   ]
  },
  {
   "cell_type": "markdown",
   "metadata": {},
   "source": [
    "lakukan pemetaan data"
   ]
  },
  {
   "cell_type": "code",
   "execution_count": 201,
   "metadata": {},
   "outputs": [],
   "source": [
    "df['JARAK KELAHIRAN'] = df['JARAK KELAHIRAN'].replace({'anak pertama': 0, '< 2 tahun': 1, '> 2 tahun': 2})"
   ]
  },
  {
   "cell_type": "code",
   "execution_count": 200,
   "metadata": {},
   "outputs": [
    {
     "name": "stdout",
     "output_type": "stream",
     "text": [
      "0    0\n",
      "1    0\n",
      "2    0\n",
      "3    0\n",
      "4    0\n",
      "Name: JARAK KELAHIRAN, dtype: object\n"
     ]
    }
   ],
   "source": [
    "print(df['JARAK KELAHIRAN'].head())"
   ]
  },
  {
   "cell_type": "code",
   "execution_count": 83,
   "metadata": {},
   "outputs": [],
   "source": [
    "binary_columns = ['RIW HIPERTENSI', 'RIW PE', 'OBESITAS', 'RIW DM', 'RIW HIPERTENSI/PE DALAM KELUARGA']\n",
    "df[binary_columns] = df[binary_columns].replace({'Ya': 1, 'Tidak': 0, 'PEB': 1, 'Ada': 1})\n"
   ]
  },
  {
   "cell_type": "code",
   "execution_count": 26,
   "metadata": {},
   "outputs": [],
   "source": [
    "df = pd.get_dummies(df, columns=['SOSEK RENDAH'], drop_first=True)"
   ]
  },
  {
   "cell_type": "code",
   "execution_count": 77,
   "metadata": {},
   "outputs": [],
   "source": [
    "df = df.rename(columns={'Unnamed: 12': 'RIW PENYAKIT'})\n",
    "df['RIW PENYAKIT'] = df['RIW PENYAKIT'].fillna(0)"
   ]
  },
  {
   "cell_type": "code",
   "execution_count": 80,
   "metadata": {},
   "outputs": [],
   "source": [
    "df['PE/Non PE'] = df['PE/Non PE'].replace({'PE': 1, 'Non PE': 0})"
   ]
  },
  {
   "cell_type": "code",
   "execution_count": 104,
   "metadata": {},
   "outputs": [
    {
     "name": "stdout",
     "output_type": "stream",
     "text": [
      "\n",
      "Data Setelah Feature Engineering: \n",
      "   NO    NAMA USIA PARITAS JARAK KELAHIRAN  RIW HIPERTENSI RIW PE  OBESITAS  \\\n",
      "0   1  NAMA 1   23       3               0               0      0         0   \n",
      "1   2  NAMA 2   29       2               0               0      1         0   \n",
      "2   3  NAMA 3   20       1               0               0      0         0   \n",
      "3   4  NAMA 4   18       1               0               0      0         0   \n",
      "4   5  NAMA 5   34       3               0               0      0         0   \n",
      "\n",
      "   RIW DM  RIW HIPERTENSI/PE DALAM KELUARGA PE/Non PE RIW PENYAKIT  \\\n",
      "0       1                                 0         0            0   \n",
      "1       0                                 1         1            0   \n",
      "2       0                                 0         0            0   \n",
      "3       0                                 0         0            0   \n",
      "4       0                                 0         0            0   \n",
      "\n",
      "   SOSEK RENDAH_>UMR  \n",
      "0               True  \n",
      "1               True  \n",
      "2               True  \n",
      "3               True  \n",
      "4               True  \n"
     ]
    }
   ],
   "source": [
    "print(\"\\nData Setelah Feature Engineering: \")\n",
    "print(df.head())"
   ]
  },
  {
   "cell_type": "code",
   "execution_count": 82,
   "metadata": {},
   "outputs": [
    {
     "name": "stdout",
     "output_type": "stream",
     "text": [
      "\n",
      "Data hasil feature engineering telah disimpan ke 'featured_data.csv'.\n"
     ]
    }
   ],
   "source": [
    "df.to_csv('featured_data.csv', index=False)\n",
    "print(\"\\nData hasil feature engineering telah disimpan ke 'featured_data.csv'.\")"
   ]
  }
 ],
 "metadata": {
  "kernelspec": {
   "display_name": "Python 3",
   "language": "python",
   "name": "python3"
  },
  "language_info": {
   "codemirror_mode": {
    "name": "ipython",
    "version": 3
   },
   "file_extension": ".py",
   "mimetype": "text/x-python",
   "name": "python",
   "nbconvert_exporter": "python",
   "pygments_lexer": "ipython3",
   "version": "3.12.4"
  }
 },
 "nbformat": 4,
 "nbformat_minor": 2
}
