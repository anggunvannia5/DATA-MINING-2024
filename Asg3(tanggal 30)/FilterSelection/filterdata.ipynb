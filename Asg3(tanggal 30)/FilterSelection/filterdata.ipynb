{
 "cells": [
  {
   "cell_type": "code",
   "execution_count": 119,
   "metadata": {},
   "outputs": [],
   "source": [
    "import numpy as np\n",
    "import pandas as pd\n",
    "from sklearn.decomposition import PCA\n",
    "from sklearn.preprocessing import StandardScaler\n",
    "from sklearn.feature_selection import SelectKBest, chi2\n",
    "from sklearn.preprocessing import LabelEncoder"
   ]
  },
  {
   "cell_type": "markdown",
   "metadata": {},
   "source": [
    "Membaca data"
   ]
  },
  {
   "cell_type": "code",
   "execution_count": 120,
   "metadata": {},
   "outputs": [
    {
     "data": {
      "text/html": [
       "<div>\n",
       "<style scoped>\n",
       "    .dataframe tbody tr th:only-of-type {\n",
       "        vertical-align: middle;\n",
       "    }\n",
       "\n",
       "    .dataframe tbody tr th {\n",
       "        vertical-align: top;\n",
       "    }\n",
       "\n",
       "    .dataframe thead th {\n",
       "        text-align: right;\n",
       "    }\n",
       "</style>\n",
       "<table border=\"1\" class=\"dataframe\">\n",
       "  <thead>\n",
       "    <tr style=\"text-align: right;\">\n",
       "      <th></th>\n",
       "      <th>NO</th>\n",
       "      <th>NAMA</th>\n",
       "      <th>USIA</th>\n",
       "      <th>PARITAS</th>\n",
       "      <th>JARAK KELAHIRAN</th>\n",
       "      <th>RIW HIPERTENSI</th>\n",
       "      <th>RIW PE</th>\n",
       "      <th>OBESITAS</th>\n",
       "      <th>RIW DM</th>\n",
       "      <th>RIW HIPERTENSI/PE DALAM KELUARGA</th>\n",
       "      <th>PE/Non PE</th>\n",
       "      <th>RIW PENYAKIT</th>\n",
       "      <th>SOSEK RENDAH_&gt;UMR</th>\n",
       "    </tr>\n",
       "  </thead>\n",
       "  <tbody>\n",
       "    <tr>\n",
       "      <th>0</th>\n",
       "      <td>1</td>\n",
       "      <td>NAMA 1</td>\n",
       "      <td>23.0</td>\n",
       "      <td>3</td>\n",
       "      <td>0</td>\n",
       "      <td>0</td>\n",
       "      <td>0</td>\n",
       "      <td>0</td>\n",
       "      <td>1</td>\n",
       "      <td>0</td>\n",
       "      <td>0</td>\n",
       "      <td>0</td>\n",
       "      <td>True</td>\n",
       "    </tr>\n",
       "    <tr>\n",
       "      <th>1</th>\n",
       "      <td>2</td>\n",
       "      <td>NAMA 2</td>\n",
       "      <td>29.0</td>\n",
       "      <td>2</td>\n",
       "      <td>0</td>\n",
       "      <td>0</td>\n",
       "      <td>1</td>\n",
       "      <td>0</td>\n",
       "      <td>0</td>\n",
       "      <td>1</td>\n",
       "      <td>1</td>\n",
       "      <td>0</td>\n",
       "      <td>True</td>\n",
       "    </tr>\n",
       "    <tr>\n",
       "      <th>2</th>\n",
       "      <td>3</td>\n",
       "      <td>NAMA 3</td>\n",
       "      <td>20.0</td>\n",
       "      <td>1</td>\n",
       "      <td>0</td>\n",
       "      <td>0</td>\n",
       "      <td>0</td>\n",
       "      <td>0</td>\n",
       "      <td>0</td>\n",
       "      <td>0</td>\n",
       "      <td>0</td>\n",
       "      <td>0</td>\n",
       "      <td>True</td>\n",
       "    </tr>\n",
       "    <tr>\n",
       "      <th>3</th>\n",
       "      <td>4</td>\n",
       "      <td>NAMA 4</td>\n",
       "      <td>18.0</td>\n",
       "      <td>1</td>\n",
       "      <td>0</td>\n",
       "      <td>0</td>\n",
       "      <td>0</td>\n",
       "      <td>0</td>\n",
       "      <td>0</td>\n",
       "      <td>0</td>\n",
       "      <td>0</td>\n",
       "      <td>0</td>\n",
       "      <td>True</td>\n",
       "    </tr>\n",
       "    <tr>\n",
       "      <th>4</th>\n",
       "      <td>5</td>\n",
       "      <td>NAMA 5</td>\n",
       "      <td>34.0</td>\n",
       "      <td>3</td>\n",
       "      <td>0</td>\n",
       "      <td>0</td>\n",
       "      <td>0</td>\n",
       "      <td>0</td>\n",
       "      <td>0</td>\n",
       "      <td>0</td>\n",
       "      <td>0</td>\n",
       "      <td>0</td>\n",
       "      <td>True</td>\n",
       "    </tr>\n",
       "  </tbody>\n",
       "</table>\n",
       "</div>"
      ],
      "text/plain": [
       "   NO    NAMA  USIA  PARITAS  JARAK KELAHIRAN  RIW HIPERTENSI  RIW PE  \\\n",
       "0   1  NAMA 1  23.0        3                0               0       0   \n",
       "1   2  NAMA 2  29.0        2                0               0       1   \n",
       "2   3  NAMA 3  20.0        1                0               0       0   \n",
       "3   4  NAMA 4  18.0        1                0               0       0   \n",
       "4   5  NAMA 5  34.0        3                0               0       0   \n",
       "\n",
       "   OBESITAS  RIW DM  RIW HIPERTENSI/PE DALAM KELUARGA  PE/Non PE  \\\n",
       "0         0       1                                 0          0   \n",
       "1         0       0                                 1          1   \n",
       "2         0       0                                 0          0   \n",
       "3         0       0                                 0          0   \n",
       "4         0       0                                 0          0   \n",
       "\n",
       "   RIW PENYAKIT SOSEK RENDAH_>UMR  \n",
       "0             0              True  \n",
       "1             0              True  \n",
       "2             0              True  \n",
       "3             0              True  \n",
       "4             0              True  "
      ]
     },
     "execution_count": 120,
     "metadata": {},
     "output_type": "execute_result"
    }
   ],
   "source": [
    "df = pd.read_csv('featured_data.csv')\n",
    "df.head()"
   ]
  },
  {
   "cell_type": "code",
   "execution_count": 121,
   "metadata": {},
   "outputs": [],
   "source": [
    "X = df.drop(columns=['PE/Non PE'])\n",
    "y = df['PE/Non PE']"
   ]
  },
  {
   "cell_type": "code",
   "execution_count": 122,
   "metadata": {},
   "outputs": [],
   "source": [
    "X = df.drop(columns=['NAMA','NO'])"
   ]
  },
  {
   "cell_type": "code",
   "execution_count": 129,
   "metadata": {},
   "outputs": [],
   "source": [
    "\n",
    "X = X.apply(LabelEncoder().fit_transform)\n",
    "df['SOSEK RENDAH_>UMR'] = df['SOSEK RENDAH_>UMR'].replace({2: 1, 1: 0})\n"
   ]
  },
  {
   "cell_type": "markdown",
   "metadata": {},
   "source": [
    "Melakukan feature"
   ]
  },
  {
   "cell_type": "code",
   "execution_count": 130,
   "metadata": {},
   "outputs": [],
   "source": [
    "selector = SelectKBest(score_func=chi2, k=9)\n",
    "X_new = selector.fit_transform(X, y)"
   ]
  },
  {
   "cell_type": "code",
   "execution_count": 131,
   "metadata": {},
   "outputs": [
    {
     "name": "stdout",
     "output_type": "stream",
     "text": [
      "Selected Features: Index(['USIA', 'RIW HIPERTENSI', 'RIW PE', 'OBESITAS', 'RIW DM',\n",
      "       'RIW HIPERTENSI/PE DALAM KELUARGA', 'PE/Non PE', 'RIW PENYAKIT',\n",
      "       'SOSEK RENDAH_>UMR'],\n",
      "      dtype='object')\n"
     ]
    }
   ],
   "source": [
    "selected_features = X.columns[selector.get_support()]\n",
    "print(\"Selected Features:\", selected_features)"
   ]
  },
  {
   "cell_type": "code",
   "execution_count": 132,
   "metadata": {},
   "outputs": [],
   "source": [
    "excluded_features = ['NAMA']"
   ]
  },
  {
   "cell_type": "code",
   "execution_count": 72,
   "metadata": {},
   "outputs": [],
   "source": [
    "remaining_features = [feature for feature in X.columns if feature not in excluded_features]"
   ]
  },
  {
   "cell_type": "code",
   "execution_count": 74,
   "metadata": {},
   "outputs": [],
   "source": [
    "if 'PARITAS' not in remaining_features:\n",
    "    remaining_features.append('PARITAS')"
   ]
  },
  {
   "cell_type": "code",
   "execution_count": 82,
   "metadata": {},
   "outputs": [],
   "source": [
    "\n",
    "    X_selected_df = pd.DataFrame(X[remaining_features])"
   ]
  },
  {
   "cell_type": "markdown",
   "metadata": {},
   "source": [
    "membuat data frame baru dengan attribut terpilih"
   ]
  },
  {
   "cell_type": "code",
   "execution_count": 133,
   "metadata": {},
   "outputs": [],
   "source": [
    "X_selected_df = pd.DataFrame(X_new, columns=selected_features)"
   ]
  },
  {
   "cell_type": "markdown",
   "metadata": {},
   "source": [
    "untuk menyimpan menjadi file data baru"
   ]
  },
  {
   "cell_type": "code",
   "execution_count": 134,
   "metadata": {},
   "outputs": [
    {
     "name": "stdout",
     "output_type": "stream",
     "text": [
      "Fitur terpilih telah disimpan ke selected_features.csv\n"
     ]
    }
   ],
   "source": [
    "X_selected_df.to_csv('selected_features.csv', index=False)\n",
    "print(\"Fitur terpilih telah disimpan ke selected_features.csv\")"
   ]
  }
 ],
 "metadata": {
  "kernelspec": {
   "display_name": "Python 3",
   "language": "python",
   "name": "python3"
  },
  "language_info": {
   "codemirror_mode": {
    "name": "ipython",
    "version": 3
   },
   "file_extension": ".py",
   "mimetype": "text/x-python",
   "name": "python",
   "nbconvert_exporter": "python",
   "pygments_lexer": "ipython3",
   "version": "3.12.4"
  }
 },
 "nbformat": 4,
 "nbformat_minor": 2
}
